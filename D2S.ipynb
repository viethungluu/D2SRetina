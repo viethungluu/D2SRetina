{
  "nbformat": 4,
  "nbformat_minor": 0,
  "metadata": {
    "colab": {
      "name": "D2S.ipynb",
      "provenance": [],
      "collapsed_sections": [
        "zNPWuJuYJDua",
        "HTRj6wljxGSM"
      ],
      "toc_visible": true
    },
    "kernelspec": {
      "name": "python3",
      "display_name": "Python 3"
    },
    "accelerator": "GPU"
  },
  "cells": [
    {
      "cell_type": "markdown",
      "metadata": {
        "id": "vYyoNZmPmCVW",
        "colab_type": "text"
      },
      "source": [
        "# Setup running environment"
      ]
    },
    {
      "cell_type": "code",
      "metadata": {
        "id": "czVpqFtvbvWi",
        "colab_type": "code",
        "colab": {}
      },
      "source": [
        "from google.colab import drive\n",
        "drive.mount('/content/gdrive', force_remount=True)"
      ],
      "execution_count": 0,
      "outputs": []
    },
    {
      "cell_type": "code",
      "metadata": {
        "id": "mpstvEJgcYMQ",
        "colab_type": "code",
        "colab": {}
      },
      "source": [
        "!pip install keras==2.3.0"
      ],
      "execution_count": 0,
      "outputs": []
    },
    {
      "cell_type": "code",
      "metadata": {
        "id": "kLxwMh815gW5",
        "colab_type": "code",
        "colab": {}
      },
      "source": [
        "!pip install --user git+https://github.com/cocodataset/cocoapi.git#subdirectory=PythonAPI"
      ],
      "execution_count": 0,
      "outputs": []
    },
    {
      "cell_type": "code",
      "metadata": {
        "id": "OggoW70f0G9O",
        "colab_type": "code",
        "outputId": "e1f34f95-6709-4457-8d6d-053235988f80",
        "colab": {
          "base_uri": "https://localhost:8080/",
          "height": 35
        }
      },
      "source": [
        "%cd './gdrive/My Drive/Workspace/code/D2SRetina/'"
      ],
      "execution_count": 0,
      "outputs": [
        {
          "output_type": "stream",
          "text": [
            "/content/gdrive/My Drive/Workspace/code/D2SRetina\n"
          ],
          "name": "stdout"
        }
      ]
    },
    {
      "cell_type": "markdown",
      "metadata": {
        "id": "zNPWuJuYJDua",
        "colab_type": "text"
      },
      "source": [
        "# General Approach"
      ]
    },
    {
      "cell_type": "markdown",
      "metadata": {
        "id": "wIxw_qmmJH0u",
        "colab_type": "text"
      },
      "source": [
        "Grocery items can be detected using one-stage CNN detector which find the item location and its category at the same time. However, the main disadvantages of this procedure are that:\n",
        "* If new grocery items are added to the store, we need to re-trained the model with larger number of ouput classes.\n",
        "* When the number of grocery items is large i.e. 10000 items, the classification submodel need to output a 10000-ways softmax, which increase the size of model.\n",
        "\n",
        "Instead, we propose a two-stage approach as follows:\n",
        "* A general-object detector is trained to detect object in general. On other hand, the output of classification sub-model is 1-way softmax.\n",
        "* A variable-size metric-learning model is trained to learn the similarity between object of same class.\n",
        "\n",
        "In operation, the pipeline is as follows:\n",
        "* The general-object detector is used to detect object location. Detected objects are then cropped.\n",
        "* Given a database of image of grocery items, the second model will find the grocery which most similar to detected object, and assign its label.\n",
        "\n",
        "![Pipeline](https://github.com/viethungluu/D2SRetina/blob/master/images/self_checkout.png?raw=true)\n",
        "\n",
        "The main advantages of this approach is that it does not require re-train model if new groceries are added. We only need to run the network on a sample image of new grocery once and store it on database for later use.\n",
        "\n",
        "\n",
        "**One more thing**\n",
        "\n",
        "Currently, recognition model is based on comparision of visual similarity between object. For grocery items, there are usually *text (brand, ads)* appeared on the item. One more step to increase the performance of recognition model is to extract text feature from image, and use it for comparision.\n",
        "\n",
        "To extract text feature in the image, another text detection model should be trained. This module will be added if we have more time.\n"
      ]
    },
    {
      "cell_type": "markdown",
      "metadata": {
        "id": "HTRj6wljxGSM",
        "colab_type": "text"
      },
      "source": [
        "# Training general-object detection model"
      ]
    },
    {
      "cell_type": "markdown",
      "metadata": {
        "id": "XfqJzyH4PBa0",
        "colab_type": "text"
      },
      "source": [
        "## Architecture"
      ]
    },
    {
      "cell_type": "markdown",
      "metadata": {
        "id": "XoaKmyvioFHj",
        "colab_type": "text"
      },
      "source": [
        "Training a general-object detection model\n",
        "* **Architecture**: RetinaNet with ResNet50 as backbone\n",
        "* **Transfer learning**: Initialize model's weights with the one pre-trained on MS COCO dataset\n",
        "* **General-object detector**: We train the model on modified dataset where all object classes are converted to only one class \"object\". Following this strategy, our model would be more generic toward \"object\" in general, not some specific classes."
      ]
    },
    {
      "cell_type": "markdown",
      "metadata": {
        "id": "cWz8IKi9PHpb",
        "colab_type": "text"
      },
      "source": [
        "## Training"
      ]
    },
    {
      "cell_type": "code",
      "metadata": {
        "id": "WgibO8V2dd-Q",
        "colab_type": "code",
        "colab": {}
      },
      "source": [
        "!pip install detection/.\n",
        "!python detection/setup.py build_ext --inplace"
      ],
      "execution_count": 0,
      "outputs": []
    },
    {
      "cell_type": "code",
      "metadata": {
        "id": "1eOBRMyBhhCi",
        "colab_type": "code",
        "colab": {}
      },
      "source": [
        "!git pull"
      ],
      "execution_count": 0,
      "outputs": []
    },
    {
      "cell_type": "markdown",
      "metadata": {
        "id": "7Kq5xCkQupf8",
        "colab_type": "text"
      },
      "source": [
        "**Optimizing** the *scales* and *ratios* of anchors for bounding box detection. Found values will be used as config for training detection model."
      ]
    },
    {
      "cell_type": "code",
      "metadata": {
        "id": "a5YCw84PurLV",
        "colab_type": "code",
        "colab": {}
      },
      "source": [
        "!python detection/keras_retinanet/bin/anchor_optimization.py --data-dir ../../data/processed/d2s/ --set-name training_object"
      ],
      "execution_count": 0,
      "outputs": []
    },
    {
      "cell_type": "markdown",
      "metadata": {
        "id": "9lApynGeoGVy",
        "colab_type": "text"
      },
      "source": [
        "**Verifying** if the annotations are correct"
      ]
    },
    {
      "cell_type": "code",
      "metadata": {
        "id": "FJs1gkpvmaHP",
        "colab_type": "code",
        "colab": {}
      },
      "source": [
        "!python detection/keras_retinanet/bin/debug.py --annotations --no-resize --num_images 2 coco ../../data/processed/d2s/ --coco-set training_object"
      ],
      "execution_count": 0,
      "outputs": []
    },
    {
      "cell_type": "markdown",
      "metadata": {
        "id": "mRGm8W1DqJMP",
        "colab_type": "text"
      },
      "source": [
        "**Training**"
      ]
    },
    {
      "cell_type": "code",
      "metadata": {
        "id": "F4KrvHjlkzcB",
        "colab_type": "code",
        "colab": {}
      },
      "source": [
        "!python detection/keras_retinanet/bin/train.py --backbone resnet50 --weights ../../models/snapshots/D2S/resnet50_coco_best_v2.1.0.h5 --lr 1e-5 --epochs 100 --steps 500 --batch-size 4 --snapshot-path ../../models/snapshots/D2S/Coco --logger-dir ../../models/logs/D2S/Coco --save-path ../../results/D2S/Coco coco ../../data/processed/d2s/"
      ],
      "execution_count": 0,
      "outputs": []
    },
    {
      "cell_type": "markdown",
      "metadata": {
        "id": "-OcgzT05PNwc",
        "colab_type": "text"
      },
      "source": [
        "## Evaluation"
      ]
    },
    {
      "cell_type": "markdown",
      "metadata": {
        "id": "lRkcxSACqtTk",
        "colab_type": "text"
      },
      "source": [
        "**Evaluating** trained model"
      ]
    },
    {
      "cell_type": "code",
      "metadata": {
        "id": "Eq8TsN-9qvxh",
        "colab_type": "code",
        "colab": {}
      },
      "source": [
        "!python detection/keras_retinanet/bin/evaluate.py --model ../../models/snapshots/D2S/Coco/resnet50_coco_26.h5 --backbone resnet50 --convert-model --save-path ../../results/D2S/Coco coco ../../data/processed/d2s/"
      ],
      "execution_count": 0,
      "outputs": []
    },
    {
      "cell_type": "markdown",
      "metadata": {
        "id": "92q6A0HivsXq",
        "colab_type": "text"
      },
      "source": [
        "Detection results. You can find the visualization of the detection **[HERE](https://drive.google.com/open?id=11Raospe5D3RZTZ3Wm9rCgv_BrlBJp3B3)**\n",
        "\n",
        "> Average Precision  (AP) @[ IoU=0.50:0.95 | area=   all | maxDets=100 ] = 0.974\n",
        "\n",
        "> Average Precision  (AP) @[ IoU=0.50      | area=   all | maxDets=100 ] = 0.990\n",
        "\n",
        "> Average Precision  (AP) @[ IoU=0.75      | area=   all | maxDets=100 ] = 0.990\n",
        "\n",
        "> Average Precision  (AP) @[ IoU=0.50:0.95 | area= small | maxDets=100 ] = -1.000\n",
        "\n",
        "> Average Precision  (AP) @[ IoU=0.50:0.95 | area=medium | maxDets=100 ] = 0.618\n",
        "\n",
        "> Average Precision  (AP) @[ IoU=0.50:0.95 | area= large | maxDets=100 ] = 0.981\n",
        "\n",
        "\n",
        "> Average Recall     (AR) @[ IoU=0.50:0.95 | area=   all | maxDets=  1 ] = 0.291\n",
        "\n",
        "> Average Recall     (AR) @[ IoU=0.50:0.95 | area=   all | maxDets= 10 ] = 0.987\n",
        "\n",
        "> Average Recall     (AR) @[ IoU=0.50:0.95 | area=   all | maxDets=100 ] = 0.987\n",
        "\n",
        "> Average Recall     (AR) @[ IoU=0.50:0.95 | area= small | maxDets=100 ] = -1.000\n",
        "\n",
        "> Average Recall     (AR) @[ IoU=0.50:0.95 | area=medium | maxDets=100 ] = 0.750\n",
        "\n",
        "> Average Recall     (AR) @[ IoU=0.50:0.95 | area= large | maxDets=100 ] = 0.988\n",
        "\n",
        "\n"
      ]
    },
    {
      "cell_type": "markdown",
      "metadata": {
        "id": "kObiUHOxISXP",
        "colab_type": "text"
      },
      "source": [
        "# Training one-shot recognition model"
      ]
    },
    {
      "cell_type": "code",
      "metadata": {
        "id": "yIZOC3H7CqMs",
        "colab_type": "code",
        "outputId": "b3a35e67-fb3e-46db-d982-5998e0ad1977",
        "colab": {
          "base_uri": "https://localhost:8080/",
          "height": 243
        }
      },
      "source": [
        "!git pull"
      ],
      "execution_count": 0,
      "outputs": [
        {
          "output_type": "stream",
          "text": [
            "remote: Enumerating objects: 9, done.\u001b[K\n",
            "remote: Counting objects:  11% (1/9)\u001b[K\rremote: Counting objects:  22% (2/9)\u001b[K\rremote: Counting objects:  33% (3/9)\u001b[K\rremote: Counting objects:  44% (4/9)\u001b[K\rremote: Counting objects:  55% (5/9)\u001b[K\rremote: Counting objects:  66% (6/9)\u001b[K\rremote: Counting objects:  77% (7/9)\u001b[K\rremote: Counting objects:  88% (8/9)\u001b[K\rremote: Counting objects: 100% (9/9)\u001b[K\rremote: Counting objects: 100% (9/9), done.\u001b[K\n",
            "remote: Compressing objects:  50% (1/2)\u001b[K\rremote: Compressing objects: 100% (2/2)\u001b[K\rremote: Compressing objects: 100% (2/2), done.\u001b[K\n",
            "remote: Total 16 (delta 7), reused 9 (delta 7), pack-reused 7\u001b[K\n",
            "Unpacking objects: 100% (16/16), done.\n",
            "From https://github.com/viethungluu/D2SRetina\n",
            "   169c63c..9445e3b  master     -> origin/master\n",
            "Updating 169c63c..9445e3b\n",
            "Fast-forward\n",
            " recognition/losses.py            | 11 \u001b[32m++++\u001b[m\u001b[31m-------\u001b[m\n",
            " recognition/triplet_selectors.py | 36 \u001b[32m+++++++++++\u001b[m\u001b[31m-------------------------\u001b[m\n",
            " recognition/visualization.py     | 23 \u001b[32m++++++++++++\u001b[m\u001b[31m-----------\u001b[m\n",
            " 3 files changed, 27 insertions(+), 43 deletions(-)\n"
          ],
          "name": "stdout"
        }
      ]
    },
    {
      "cell_type": "markdown",
      "metadata": {
        "id": "jSBxPZJoO3Hg",
        "colab_type": "text"
      },
      "source": [
        "## Dataset"
      ]
    },
    {
      "cell_type": "markdown",
      "metadata": {
        "id": "dDddC-EVqFIS",
        "colab_type": "text"
      },
      "source": [
        "The provided dataset is in COCO-format. In each image there are several objects.\n",
        "\n",
        "We would like to re-use this dataset to train our object-recognition model. Thus, a custom dataset generator is built. The output of our dataset is the image patches which cover each object in dataset image."
      ]
    },
    {
      "cell_type": "code",
      "metadata": {
        "id": "ZnrXa0eHp4YO",
        "colab_type": "code",
        "colab": {}
      },
      "source": [
        "!python recognition/dataset.py --coco-path ../../data/processed/d2s/ --num-images 12"
      ],
      "execution_count": 0,
      "outputs": []
    },
    {
      "cell_type": "markdown",
      "metadata": {
        "id": "4iNUZoTKNPEV",
        "colab_type": "text"
      },
      "source": [
        "Visualizing some object image in our recognition dataset.\n",
        "\n",
        "<img src=\"https://github.com/viethungluu/D2SRetina/blob/master/images/debug_regcognition.png?raw=true\" alt=\"Recognition dataset\" width=\"600\"/>\n"
      ]
    },
    {
      "cell_type": "markdown",
      "metadata": {
        "id": "QWSQrRmjwYSt",
        "colab_type": "text"
      },
      "source": [
        "## Training"
      ]
    },
    {
      "cell_type": "markdown",
      "metadata": {
        "id": "eSQLTRQV1Im8",
        "colab_type": "text"
      },
      "source": [
        "**Training strategy**:\n",
        "* **Architecture**: Triplet model with ResNet50 as backbone. Image patches are resized and cropped to fixed size of $224 \\times 224$.\n",
        "* **Transfer learning**: Initialize backbone's weights with the one pre-trained on ImageNet dataset. First 6 blocks of ResNet50 model are freeze.\n",
        "* **Loss function**: Triplet loss with L2-distance.\n",
        "*   **Batch balancing**: In each mini-batch, K x P samples are used to form triplets where P is the number of classes and K is the number of samples for each class. This help model not biased to specific class.\n",
        "*   **Curiculumn triplet sampling**: Curriculum learning describes a type of learning in which you first start out with only easy examples of a task and then gradually increase the task difficulty.\n",
        " * In the first epochs, the model is trained with \"all\" sampling. Let's say in each mini-batch we have K x P samples as above, then $[\\frac{K \\times (K -1)}{2} \\times K \\times (P - 1)] \\times P$ triplets are formed.\n",
        " * In the next epochs, the model is trained with hard negative sampling. Let's say in each mini-batch, only $\\frac{P \\times (P -1)}{2} \\times K$ hardest triplets are used.\n",
        "* **Learning rate**: We start with large batch size and large learning rate ($1e-2$) [\\[ref\\]](https://arxiv.org/abs/1711.00489). After first 30 epochs, the learning rate is gradually decrease.\n",
        "* **Soft margin**: Revisit formula of hard margin is $loss = max(positive\\_distance - negative\\_distance + margin, 0)$ where $margin$ is hyper-parameter. To get rid of hyper-param $margin$, soft margin is defined as $ln(1+exp(positive\\_distance - negative\\_distance))$. [\\[ref\\]](https://arxiv.org/pdf/1703.07737.pdf)\n",
        "* **Random erasing**: Randomly erase part of image for data augmentation."
      ]
    },
    {
      "cell_type": "markdown",
      "metadata": {
        "id": "SxGx_4KNJpnG",
        "colab_type": "text"
      },
      "source": [
        "Model summary"
      ]
    },
    {
      "cell_type": "code",
      "metadata": {
        "id": "p3g-qKeFJYlM",
        "colab_type": "code",
        "colab": {}
      },
      "source": [
        "!python recognition/models.py"
      ],
      "execution_count": 0,
      "outputs": []
    },
    {
      "cell_type": "markdown",
      "metadata": {
        "id": "g0qVhKp4ewPi",
        "colab_type": "text"
      },
      "source": [
        "**Start by training with all sampling**"
      ]
    },
    {
      "cell_type": "code",
      "metadata": {
        "id": "trdLlJeqeUF2",
        "colab_type": "code",
        "outputId": "61907532-fdf8-4f5c-c906-eea81a1ab3d5",
        "colab": {
          "base_uri": "https://localhost:8080/",
          "height": 852
        }
      },
      "source": [
        "!python recognition/train.py --coco-path ../../data/processed/d2s/ --backbone ResNet18 --imagenet-weights --optim Adam --triplet-selector all --K 4 --P 4 --soft-margin --lr 1e-2 --epoch-decay-start 10 --n-epoch 11 --n-batches 200 --snapshot-path ../../models/snapshots/D2S/Coco/soft_margin --logger-dir ../../models/logs/D2S/Coco/soft_margin"
      ],
      "execution_count": 0,
      "outputs": [
        {
          "output_type": "stream",
          "text": [
            "Reading dataset from ../../data/processed/d2s/annotations/D2S_training.json\n",
            "loading annotations into memory...\n",
            "Done (t=0.08s)\n",
            "creating index...\n",
            "index created!\n",
            "{0: 1, 1: 2, 2: 3, 3: 4, 4: 5, 5: 6, 6: 7, 7: 8, 8: 9, 9: 10, 10: 11, 11: 12, 12: 13, 13: 14, 14: 15, 15: 16, 16: 17, 17: 18, 18: 19, 19: 20, 20: 21, 21: 22, 22: 23, 23: 24, 24: 25, 25: 26, 26: 27, 27: 28, 28: 29, 29: 30, 30: 31, 31: 32, 32: 33, 33: 34, 34: 35, 35: 36, 36: 37, 37: 38, 38: 39, 39: 40, 40: 41, 41: 42, 42: 43, 43: 44, 44: 45, 45: 46, 46: 47, 47: 48, 48: 49, 49: 50, 50: 51, 51: 52, 52: 53, 53: 54, 54: 55, 55: 56, 56: 57, 57: 58, 58: 59, 59: 60}\n",
            "{1: 0, 2: 1, 3: 2, 4: 3, 5: 4, 6: 5, 7: 6, 8: 7, 9: 8, 10: 9, 11: 10, 12: 11, 13: 12, 14: 13, 15: 14, 16: 15, 17: 16, 18: 17, 19: 18, 20: 19, 21: 20, 22: 21, 23: 22, 24: 23, 25: 24, 26: 25, 27: 26, 28: 27, 29: 28, 30: 29, 31: 30, 32: 31, 33: 32, 34: 33, 35: 34, 36: 35, 37: 36, 38: 37, 39: 38, 40: 39, 41: 40, 42: 41, 43: 42, 44: 43, 45: 44, 46: 45, 47: 46, 48: 47, 49: 48, 50: 49, 51: 50, 52: 51, 53: 52, 54: 53, 55: 54, 56: 55, 57: 56, 58: 57, 59: 58, 60: 59}\n",
            "{'adelholzener_alpenquelle_classic_075': 0, 'adelholzener_alpenquelle_naturell_075': 1, 'adelholzener_classic_bio_apfelschorle_02': 2, 'adelholzener_classic_naturell_02': 3, 'adelholzener_gourmet_mineralwasser_02': 4, 'augustiner_lagerbraeu_hell_05': 5, 'augustiner_weissbier_05': 6, 'coca_cola_05': 7, 'coca_cola_light_05': 8, 'suntory_gokuri_lemonade': 9, 'tegernseer_hell_03': 10, 'corny_nussvoll': 11, 'corny_nussvoll_single': 12, 'corny_schoko_banane': 13, 'corny_schoko_banane_single': 14, 'dr_oetker_vitalis_knuspermuesli_klassisch': 15, 'koelln_muesli_fruechte': 16, 'koelln_muesli_schoko': 17, 'caona_cocoa': 18, 'cocoba_cocoa': 19, 'cafe_wunderbar_espresso': 20, 'douwe_egberts_professional_ground_coffee': 21, 'gepa_bio_caffe_crema': 22, 'gepa_italienischer_bio_espresso': 23, 'apple_braeburn_bundle': 24, 'apple_golden_delicious': 25, 'apple_granny_smith': 26, 'apple_red_boskoop': 27, 'avocado': 28, 'banana_bundle': 29, 'banana_single': 30, 'clementine': 31, 'clementine_single': 32, 'grapes_green_sugraone_seedless': 33, 'grapes_sweet_celebration_seedless': 34, 'kiwi': 35, 'orange_single': 36, 'oranges': 37, 'pear': 38, 'pasta_reggia_elicoidali': 39, 'pasta_reggia_fusilli': 40, 'pasta_reggia_spaghetti': 41, 'franken_tafelreiniger': 42, 'pelikan_tintenpatrone_canon': 43, 'ethiquable_gruener_tee_ceylon': 44, 'gepa_bio_und_fair_fencheltee': 45, 'gepa_bio_und_fair_kamillentee': 46, 'gepa_bio_und_fair_kraeuterteemischung': 47, 'gepa_bio_und_fair_pfefferminztee': 48, 'gepa_bio_und_fair_rooibostee': 49, 'kilimanjaro_tea_earl_grey': 50, 'cucumber': 51, 'carrot': 52, 'corn_salad': 53, 'lettuce': 54, 'vine_tomatoes': 55, 'roma_vine_tomatoes': 56, 'rocket': 57, 'salad_iceberg': 58, 'zucchini': 59}\n",
            "{0: 'adelholzener_alpenquelle_classic_075', 1: 'adelholzener_alpenquelle_naturell_075', 2: 'adelholzener_classic_bio_apfelschorle_02', 3: 'adelholzener_classic_naturell_02', 4: 'adelholzener_gourmet_mineralwasser_02', 5: 'augustiner_lagerbraeu_hell_05', 6: 'augustiner_weissbier_05', 7: 'coca_cola_05', 8: 'coca_cola_light_05', 9: 'suntory_gokuri_lemonade', 10: 'tegernseer_hell_03', 11: 'corny_nussvoll', 12: 'corny_nussvoll_single', 13: 'corny_schoko_banane', 14: 'corny_schoko_banane_single', 15: 'dr_oetker_vitalis_knuspermuesli_klassisch', 16: 'koelln_muesli_fruechte', 17: 'koelln_muesli_schoko', 18: 'caona_cocoa', 19: 'cocoba_cocoa', 20: 'cafe_wunderbar_espresso', 21: 'douwe_egberts_professional_ground_coffee', 22: 'gepa_bio_caffe_crema', 23: 'gepa_italienischer_bio_espresso', 24: 'apple_braeburn_bundle', 25: 'apple_golden_delicious', 26: 'apple_granny_smith', 27: 'apple_red_boskoop', 28: 'avocado', 29: 'banana_bundle', 30: 'banana_single', 31: 'clementine', 32: 'clementine_single', 33: 'grapes_green_sugraone_seedless', 34: 'grapes_sweet_celebration_seedless', 35: 'kiwi', 36: 'orange_single', 37: 'oranges', 38: 'pear', 39: 'pasta_reggia_elicoidali', 40: 'pasta_reggia_fusilli', 41: 'pasta_reggia_spaghetti', 42: 'franken_tafelreiniger', 43: 'pelikan_tintenpatrone_canon', 44: 'ethiquable_gruener_tee_ceylon', 45: 'gepa_bio_und_fair_fencheltee', 46: 'gepa_bio_und_fair_kamillentee', 47: 'gepa_bio_und_fair_kraeuterteemischung', 48: 'gepa_bio_und_fair_pfefferminztee', 49: 'gepa_bio_und_fair_rooibostee', 50: 'kilimanjaro_tea_earl_grey', 51: 'cucumber', 52: 'carrot', 53: 'corn_salad', 54: 'lettuce', 55: 'vine_tomatoes', 56: 'roma_vine_tomatoes', 57: 'rocket', 58: 'salad_iceberg', 59: 'zucchini'}\n",
            "Number of classes: 60\n",
            "Number of images: 4380\n",
            "Number of image patches: (6900,)\n",
            "Reading dataset from ../../data/processed/d2s/annotations/D2S_validation_wo_occlusion.json\n",
            "loading annotations into memory...\n",
            "Done (t=0.02s)\n",
            "creating index...\n",
            "index created!\n",
            "{0: 1, 1: 2, 2: 3, 3: 4, 4: 5, 5: 6, 6: 7, 7: 8, 8: 9, 9: 10, 10: 11, 11: 12, 12: 13, 13: 14, 14: 15, 15: 16, 16: 17, 17: 18, 18: 19, 19: 20, 20: 21, 21: 22, 22: 23, 23: 24, 24: 25, 25: 26, 26: 27, 27: 28, 28: 29, 29: 30, 30: 31, 31: 32, 32: 33, 33: 34, 34: 35, 35: 36, 36: 37, 37: 38, 38: 39, 39: 40, 40: 41, 41: 42, 42: 43, 43: 44, 44: 45, 45: 46, 46: 47, 47: 48, 48: 49, 49: 50, 50: 51, 51: 52, 52: 53, 53: 54, 54: 55, 55: 56, 56: 57, 57: 58, 58: 59, 59: 60}\n",
            "{1: 0, 2: 1, 3: 2, 4: 3, 5: 4, 6: 5, 7: 6, 8: 7, 9: 8, 10: 9, 11: 10, 12: 11, 13: 12, 14: 13, 15: 14, 16: 15, 17: 16, 18: 17, 19: 18, 20: 19, 21: 20, 22: 21, 23: 22, 24: 23, 25: 24, 26: 25, 27: 26, 28: 27, 29: 28, 30: 29, 31: 30, 32: 31, 33: 32, 34: 33, 35: 34, 36: 35, 37: 36, 38: 37, 39: 38, 40: 39, 41: 40, 42: 41, 43: 42, 44: 43, 45: 44, 46: 45, 47: 46, 48: 47, 49: 48, 50: 49, 51: 50, 52: 51, 53: 52, 54: 53, 55: 54, 56: 55, 57: 56, 58: 57, 59: 58, 60: 59}\n",
            "{'adelholzener_alpenquelle_classic_075': 0, 'adelholzener_alpenquelle_naturell_075': 1, 'adelholzener_classic_bio_apfelschorle_02': 2, 'adelholzener_classic_naturell_02': 3, 'adelholzener_gourmet_mineralwasser_02': 4, 'augustiner_lagerbraeu_hell_05': 5, 'augustiner_weissbier_05': 6, 'coca_cola_05': 7, 'coca_cola_light_05': 8, 'suntory_gokuri_lemonade': 9, 'tegernseer_hell_03': 10, 'corny_nussvoll': 11, 'corny_nussvoll_single': 12, 'corny_schoko_banane': 13, 'corny_schoko_banane_single': 14, 'dr_oetker_vitalis_knuspermuesli_klassisch': 15, 'koelln_muesli_fruechte': 16, 'koelln_muesli_schoko': 17, 'caona_cocoa': 18, 'cocoba_cocoa': 19, 'cafe_wunderbar_espresso': 20, 'douwe_egberts_professional_ground_coffee': 21, 'gepa_bio_caffe_crema': 22, 'gepa_italienischer_bio_espresso': 23, 'apple_braeburn_bundle': 24, 'apple_golden_delicious': 25, 'apple_granny_smith': 26, 'apple_red_boskoop': 27, 'avocado': 28, 'banana_bundle': 29, 'banana_single': 30, 'clementine': 31, 'clementine_single': 32, 'grapes_green_sugraone_seedless': 33, 'grapes_sweet_celebration_seedless': 34, 'kiwi': 35, 'orange_single': 36, 'oranges': 37, 'pear': 38, 'pasta_reggia_elicoidali': 39, 'pasta_reggia_fusilli': 40, 'pasta_reggia_spaghetti': 41, 'franken_tafelreiniger': 42, 'pelikan_tintenpatrone_canon': 43, 'ethiquable_gruener_tee_ceylon': 44, 'gepa_bio_und_fair_fencheltee': 45, 'gepa_bio_und_fair_kamillentee': 46, 'gepa_bio_und_fair_kraeuterteemischung': 47, 'gepa_bio_und_fair_pfefferminztee': 48, 'gepa_bio_und_fair_rooibostee': 49, 'kilimanjaro_tea_earl_grey': 50, 'cucumber': 51, 'carrot': 52, 'corn_salad': 53, 'lettuce': 54, 'vine_tomatoes': 55, 'roma_vine_tomatoes': 56, 'rocket': 57, 'salad_iceberg': 58, 'zucchini': 59}\n",
            "{0: 'adelholzener_alpenquelle_classic_075', 1: 'adelholzener_alpenquelle_naturell_075', 2: 'adelholzener_classic_bio_apfelschorle_02', 3: 'adelholzener_classic_naturell_02', 4: 'adelholzener_gourmet_mineralwasser_02', 5: 'augustiner_lagerbraeu_hell_05', 6: 'augustiner_weissbier_05', 7: 'coca_cola_05', 8: 'coca_cola_light_05', 9: 'suntory_gokuri_lemonade', 10: 'tegernseer_hell_03', 11: 'corny_nussvoll', 12: 'corny_nussvoll_single', 13: 'corny_schoko_banane', 14: 'corny_schoko_banane_single', 15: 'dr_oetker_vitalis_knuspermuesli_klassisch', 16: 'koelln_muesli_fruechte', 17: 'koelln_muesli_schoko', 18: 'caona_cocoa', 19: 'cocoba_cocoa', 20: 'cafe_wunderbar_espresso', 21: 'douwe_egberts_professional_ground_coffee', 22: 'gepa_bio_caffe_crema', 23: 'gepa_italienischer_bio_espresso', 24: 'apple_braeburn_bundle', 25: 'apple_golden_delicious', 26: 'apple_granny_smith', 27: 'apple_red_boskoop', 28: 'avocado', 29: 'banana_bundle', 30: 'banana_single', 31: 'clementine', 32: 'clementine_single', 33: 'grapes_green_sugraone_seedless', 34: 'grapes_sweet_celebration_seedless', 35: 'kiwi', 36: 'orange_single', 37: 'oranges', 38: 'pear', 39: 'pasta_reggia_elicoidali', 40: 'pasta_reggia_fusilli', 41: 'pasta_reggia_spaghetti', 42: 'franken_tafelreiniger', 43: 'pelikan_tintenpatrone_canon', 44: 'ethiquable_gruener_tee_ceylon', 45: 'gepa_bio_und_fair_fencheltee', 46: 'gepa_bio_und_fair_kamillentee', 47: 'gepa_bio_und_fair_kraeuterteemischung', 48: 'gepa_bio_und_fair_pfefferminztee', 49: 'gepa_bio_und_fair_rooibostee', 50: 'kilimanjaro_tea_earl_grey', 51: 'cucumber', 52: 'carrot', 53: 'corn_salad', 54: 'lettuce', 55: 'vine_tomatoes', 56: 'roma_vine_tomatoes', 57: 'rocket', 58: 'salad_iceberg', 59: 'zucchini'}\n",
            "Number of classes: 60\n",
            "Number of images: 660\n",
            "Number of image patches: (2250,)\n",
            "Resume training from epoch 0\n",
            "LR:  0.01\n",
            "0.51626: 100% 200/200 [02:53<00:00,  1.19it/s]\n",
            "LR:  0.01\n",
            "0.64375: 100% 200/200 [05:55<00:00,  2.20s/it]\n",
            "LR:  0.01\n",
            "0.68888: 100% 200/200 [04:30<00:00,  1.81s/it]\n",
            "LR:  0.01\n",
            "0.59073: 100% 200/200 [03:37<00:00,  1.04s/it]\n",
            "LR:  0.01\n",
            "0.58610: 100% 200/200 [03:31<00:00,  1.00s/it]\n",
            "Epoch [5/11], Train loss: 0.5944, Test loss: 0.5214\n",
            "LR:  0.01\n",
            "0.69845: 100% 200/200 [03:17<00:00,  1.09it/s]\n",
            "LR:  0.01\n",
            "0.55661: 100% 200/200 [03:12<00:00,  1.13s/it]\n",
            "LR:  0.01\n",
            "0.50490: 100% 200/200 [03:09<00:00,  1.00s/it]\n",
            "LR:  0.01\n",
            "0.62597: 100% 200/200 [03:01<00:00,  1.12it/s]\n",
            "LR:  0.01\n",
            "0.71033: 100% 200/200 [02:57<00:00,  1.11it/s]\n",
            "Epoch [10/11], Train loss: 0.5878, Test loss: 0.6085\n"
          ],
          "name": "stdout"
        }
      ]
    },
    {
      "cell_type": "markdown",
      "metadata": {
        "id": "AEgn0ohD3WTO",
        "colab_type": "text"
      },
      "source": [
        "**After 10 epochs, training with:**\n",
        "\n",
        "\n",
        "1.   hard negative sampling\n",
        "2.   learning rate decay\n",
        "3.   random erasing\n",
        "\n"
      ]
    },
    {
      "cell_type": "code",
      "metadata": {
        "id": "bwOgmKTMfjQI",
        "colab_type": "code",
        "outputId": "47678975-bae0-43d7-afe8-03a60ca7ae4c",
        "colab": {
          "base_uri": "https://localhost:8080/",
          "height": 1000
        }
      },
      "source": [
        "!python recognition/train.py --coco-path ../../data/processed/d2s/ --backbone ResNet18 --snapshot ../../models/snapshots/D2S/Coco/soft_margin/ResNet18_all_10.pth --optim Adam --triplet-selector hard --K 4 --P 4 --soft-margin --p 0.5 --sh 0.2 --lr 1e-3 --epoch-decay-start 10 --n-epoch 100 --n-batches 200 --snapshot-path ../../models/snapshots/D2S/Coco/soft_margin --logger-dir ../../models/logs/D2S/Coco/soft_margin"
      ],
      "execution_count": 0,
      "outputs": [
        {
          "output_type": "stream",
          "text": [
            "Reading dataset from ../../data/processed/d2s/annotations/D2S_training.json\n",
            "loading annotations into memory...\n",
            "Done (t=0.08s)\n",
            "creating index...\n",
            "index created!\n",
            "{0: 1, 1: 2, 2: 3, 3: 4, 4: 5, 5: 6, 6: 7, 7: 8, 8: 9, 9: 10, 10: 11, 11: 12, 12: 13, 13: 14, 14: 15, 15: 16, 16: 17, 17: 18, 18: 19, 19: 20, 20: 21, 21: 22, 22: 23, 23: 24, 24: 25, 25: 26, 26: 27, 27: 28, 28: 29, 29: 30, 30: 31, 31: 32, 32: 33, 33: 34, 34: 35, 35: 36, 36: 37, 37: 38, 38: 39, 39: 40, 40: 41, 41: 42, 42: 43, 43: 44, 44: 45, 45: 46, 46: 47, 47: 48, 48: 49, 49: 50, 50: 51, 51: 52, 52: 53, 53: 54, 54: 55, 55: 56, 56: 57, 57: 58, 58: 59, 59: 60}\n",
            "{1: 0, 2: 1, 3: 2, 4: 3, 5: 4, 6: 5, 7: 6, 8: 7, 9: 8, 10: 9, 11: 10, 12: 11, 13: 12, 14: 13, 15: 14, 16: 15, 17: 16, 18: 17, 19: 18, 20: 19, 21: 20, 22: 21, 23: 22, 24: 23, 25: 24, 26: 25, 27: 26, 28: 27, 29: 28, 30: 29, 31: 30, 32: 31, 33: 32, 34: 33, 35: 34, 36: 35, 37: 36, 38: 37, 39: 38, 40: 39, 41: 40, 42: 41, 43: 42, 44: 43, 45: 44, 46: 45, 47: 46, 48: 47, 49: 48, 50: 49, 51: 50, 52: 51, 53: 52, 54: 53, 55: 54, 56: 55, 57: 56, 58: 57, 59: 58, 60: 59}\n",
            "{'adelholzener_alpenquelle_classic_075': 0, 'adelholzener_alpenquelle_naturell_075': 1, 'adelholzener_classic_bio_apfelschorle_02': 2, 'adelholzener_classic_naturell_02': 3, 'adelholzener_gourmet_mineralwasser_02': 4, 'augustiner_lagerbraeu_hell_05': 5, 'augustiner_weissbier_05': 6, 'coca_cola_05': 7, 'coca_cola_light_05': 8, 'suntory_gokuri_lemonade': 9, 'tegernseer_hell_03': 10, 'corny_nussvoll': 11, 'corny_nussvoll_single': 12, 'corny_schoko_banane': 13, 'corny_schoko_banane_single': 14, 'dr_oetker_vitalis_knuspermuesli_klassisch': 15, 'koelln_muesli_fruechte': 16, 'koelln_muesli_schoko': 17, 'caona_cocoa': 18, 'cocoba_cocoa': 19, 'cafe_wunderbar_espresso': 20, 'douwe_egberts_professional_ground_coffee': 21, 'gepa_bio_caffe_crema': 22, 'gepa_italienischer_bio_espresso': 23, 'apple_braeburn_bundle': 24, 'apple_golden_delicious': 25, 'apple_granny_smith': 26, 'apple_red_boskoop': 27, 'avocado': 28, 'banana_bundle': 29, 'banana_single': 30, 'clementine': 31, 'clementine_single': 32, 'grapes_green_sugraone_seedless': 33, 'grapes_sweet_celebration_seedless': 34, 'kiwi': 35, 'orange_single': 36, 'oranges': 37, 'pear': 38, 'pasta_reggia_elicoidali': 39, 'pasta_reggia_fusilli': 40, 'pasta_reggia_spaghetti': 41, 'franken_tafelreiniger': 42, 'pelikan_tintenpatrone_canon': 43, 'ethiquable_gruener_tee_ceylon': 44, 'gepa_bio_und_fair_fencheltee': 45, 'gepa_bio_und_fair_kamillentee': 46, 'gepa_bio_und_fair_kraeuterteemischung': 47, 'gepa_bio_und_fair_pfefferminztee': 48, 'gepa_bio_und_fair_rooibostee': 49, 'kilimanjaro_tea_earl_grey': 50, 'cucumber': 51, 'carrot': 52, 'corn_salad': 53, 'lettuce': 54, 'vine_tomatoes': 55, 'roma_vine_tomatoes': 56, 'rocket': 57, 'salad_iceberg': 58, 'zucchini': 59}\n",
            "{0: 'adelholzener_alpenquelle_classic_075', 1: 'adelholzener_alpenquelle_naturell_075', 2: 'adelholzener_classic_bio_apfelschorle_02', 3: 'adelholzener_classic_naturell_02', 4: 'adelholzener_gourmet_mineralwasser_02', 5: 'augustiner_lagerbraeu_hell_05', 6: 'augustiner_weissbier_05', 7: 'coca_cola_05', 8: 'coca_cola_light_05', 9: 'suntory_gokuri_lemonade', 10: 'tegernseer_hell_03', 11: 'corny_nussvoll', 12: 'corny_nussvoll_single', 13: 'corny_schoko_banane', 14: 'corny_schoko_banane_single', 15: 'dr_oetker_vitalis_knuspermuesli_klassisch', 16: 'koelln_muesli_fruechte', 17: 'koelln_muesli_schoko', 18: 'caona_cocoa', 19: 'cocoba_cocoa', 20: 'cafe_wunderbar_espresso', 21: 'douwe_egberts_professional_ground_coffee', 22: 'gepa_bio_caffe_crema', 23: 'gepa_italienischer_bio_espresso', 24: 'apple_braeburn_bundle', 25: 'apple_golden_delicious', 26: 'apple_granny_smith', 27: 'apple_red_boskoop', 28: 'avocado', 29: 'banana_bundle', 30: 'banana_single', 31: 'clementine', 32: 'clementine_single', 33: 'grapes_green_sugraone_seedless', 34: 'grapes_sweet_celebration_seedless', 35: 'kiwi', 36: 'orange_single', 37: 'oranges', 38: 'pear', 39: 'pasta_reggia_elicoidali', 40: 'pasta_reggia_fusilli', 41: 'pasta_reggia_spaghetti', 42: 'franken_tafelreiniger', 43: 'pelikan_tintenpatrone_canon', 44: 'ethiquable_gruener_tee_ceylon', 45: 'gepa_bio_und_fair_fencheltee', 46: 'gepa_bio_und_fair_kamillentee', 47: 'gepa_bio_und_fair_kraeuterteemischung', 48: 'gepa_bio_und_fair_pfefferminztee', 49: 'gepa_bio_und_fair_rooibostee', 50: 'kilimanjaro_tea_earl_grey', 51: 'cucumber', 52: 'carrot', 53: 'corn_salad', 54: 'lettuce', 55: 'vine_tomatoes', 56: 'roma_vine_tomatoes', 57: 'rocket', 58: 'salad_iceberg', 59: 'zucchini'}\n",
            "Number of classes: 60\n",
            "Number of images: 4380\n",
            "Number of image patches: (6900,)\n",
            "Reading dataset from ../../data/processed/d2s/annotations/D2S_validation_wo_occlusion.json\n",
            "loading annotations into memory...\n",
            "Done (t=0.03s)\n",
            "creating index...\n",
            "index created!\n",
            "{0: 1, 1: 2, 2: 3, 3: 4, 4: 5, 5: 6, 6: 7, 7: 8, 8: 9, 9: 10, 10: 11, 11: 12, 12: 13, 13: 14, 14: 15, 15: 16, 16: 17, 17: 18, 18: 19, 19: 20, 20: 21, 21: 22, 22: 23, 23: 24, 24: 25, 25: 26, 26: 27, 27: 28, 28: 29, 29: 30, 30: 31, 31: 32, 32: 33, 33: 34, 34: 35, 35: 36, 36: 37, 37: 38, 38: 39, 39: 40, 40: 41, 41: 42, 42: 43, 43: 44, 44: 45, 45: 46, 46: 47, 47: 48, 48: 49, 49: 50, 50: 51, 51: 52, 52: 53, 53: 54, 54: 55, 55: 56, 56: 57, 57: 58, 58: 59, 59: 60}\n",
            "{1: 0, 2: 1, 3: 2, 4: 3, 5: 4, 6: 5, 7: 6, 8: 7, 9: 8, 10: 9, 11: 10, 12: 11, 13: 12, 14: 13, 15: 14, 16: 15, 17: 16, 18: 17, 19: 18, 20: 19, 21: 20, 22: 21, 23: 22, 24: 23, 25: 24, 26: 25, 27: 26, 28: 27, 29: 28, 30: 29, 31: 30, 32: 31, 33: 32, 34: 33, 35: 34, 36: 35, 37: 36, 38: 37, 39: 38, 40: 39, 41: 40, 42: 41, 43: 42, 44: 43, 45: 44, 46: 45, 47: 46, 48: 47, 49: 48, 50: 49, 51: 50, 52: 51, 53: 52, 54: 53, 55: 54, 56: 55, 57: 56, 58: 57, 59: 58, 60: 59}\n",
            "{'adelholzener_alpenquelle_classic_075': 0, 'adelholzener_alpenquelle_naturell_075': 1, 'adelholzener_classic_bio_apfelschorle_02': 2, 'adelholzener_classic_naturell_02': 3, 'adelholzener_gourmet_mineralwasser_02': 4, 'augustiner_lagerbraeu_hell_05': 5, 'augustiner_weissbier_05': 6, 'coca_cola_05': 7, 'coca_cola_light_05': 8, 'suntory_gokuri_lemonade': 9, 'tegernseer_hell_03': 10, 'corny_nussvoll': 11, 'corny_nussvoll_single': 12, 'corny_schoko_banane': 13, 'corny_schoko_banane_single': 14, 'dr_oetker_vitalis_knuspermuesli_klassisch': 15, 'koelln_muesli_fruechte': 16, 'koelln_muesli_schoko': 17, 'caona_cocoa': 18, 'cocoba_cocoa': 19, 'cafe_wunderbar_espresso': 20, 'douwe_egberts_professional_ground_coffee': 21, 'gepa_bio_caffe_crema': 22, 'gepa_italienischer_bio_espresso': 23, 'apple_braeburn_bundle': 24, 'apple_golden_delicious': 25, 'apple_granny_smith': 26, 'apple_red_boskoop': 27, 'avocado': 28, 'banana_bundle': 29, 'banana_single': 30, 'clementine': 31, 'clementine_single': 32, 'grapes_green_sugraone_seedless': 33, 'grapes_sweet_celebration_seedless': 34, 'kiwi': 35, 'orange_single': 36, 'oranges': 37, 'pear': 38, 'pasta_reggia_elicoidali': 39, 'pasta_reggia_fusilli': 40, 'pasta_reggia_spaghetti': 41, 'franken_tafelreiniger': 42, 'pelikan_tintenpatrone_canon': 43, 'ethiquable_gruener_tee_ceylon': 44, 'gepa_bio_und_fair_fencheltee': 45, 'gepa_bio_und_fair_kamillentee': 46, 'gepa_bio_und_fair_kraeuterteemischung': 47, 'gepa_bio_und_fair_pfefferminztee': 48, 'gepa_bio_und_fair_rooibostee': 49, 'kilimanjaro_tea_earl_grey': 50, 'cucumber': 51, 'carrot': 52, 'corn_salad': 53, 'lettuce': 54, 'vine_tomatoes': 55, 'roma_vine_tomatoes': 56, 'rocket': 57, 'salad_iceberg': 58, 'zucchini': 59}\n",
            "{0: 'adelholzener_alpenquelle_classic_075', 1: 'adelholzener_alpenquelle_naturell_075', 2: 'adelholzener_classic_bio_apfelschorle_02', 3: 'adelholzener_classic_naturell_02', 4: 'adelholzener_gourmet_mineralwasser_02', 5: 'augustiner_lagerbraeu_hell_05', 6: 'augustiner_weissbier_05', 7: 'coca_cola_05', 8: 'coca_cola_light_05', 9: 'suntory_gokuri_lemonade', 10: 'tegernseer_hell_03', 11: 'corny_nussvoll', 12: 'corny_nussvoll_single', 13: 'corny_schoko_banane', 14: 'corny_schoko_banane_single', 15: 'dr_oetker_vitalis_knuspermuesli_klassisch', 16: 'koelln_muesli_fruechte', 17: 'koelln_muesli_schoko', 18: 'caona_cocoa', 19: 'cocoba_cocoa', 20: 'cafe_wunderbar_espresso', 21: 'douwe_egberts_professional_ground_coffee', 22: 'gepa_bio_caffe_crema', 23: 'gepa_italienischer_bio_espresso', 24: 'apple_braeburn_bundle', 25: 'apple_golden_delicious', 26: 'apple_granny_smith', 27: 'apple_red_boskoop', 28: 'avocado', 29: 'banana_bundle', 30: 'banana_single', 31: 'clementine', 32: 'clementine_single', 33: 'grapes_green_sugraone_seedless', 34: 'grapes_sweet_celebration_seedless', 35: 'kiwi', 36: 'orange_single', 37: 'oranges', 38: 'pear', 39: 'pasta_reggia_elicoidali', 40: 'pasta_reggia_fusilli', 41: 'pasta_reggia_spaghetti', 42: 'franken_tafelreiniger', 43: 'pelikan_tintenpatrone_canon', 44: 'ethiquable_gruener_tee_ceylon', 45: 'gepa_bio_und_fair_fencheltee', 46: 'gepa_bio_und_fair_kamillentee', 47: 'gepa_bio_und_fair_kraeuterteemischung', 48: 'gepa_bio_und_fair_pfefferminztee', 49: 'gepa_bio_und_fair_rooibostee', 50: 'kilimanjaro_tea_earl_grey', 51: 'cucumber', 52: 'carrot', 53: 'corn_salad', 54: 'lettuce', 55: 'vine_tomatoes', 56: 'roma_vine_tomatoes', 57: 'rocket', 58: 'salad_iceberg', 59: 'zucchini'}\n",
            "Number of classes: 60\n",
            "Number of images: 660\n",
            "Number of image patches: (2250,)\n",
            "Resume training from epoch 10\n",
            "LR:  0.000988888888888889\n",
            "0.70659: 100% 200/200 [02:52<00:00,  1.20it/s]\n",
            "LR:  0.0009777777777777777\n",
            "0.70564: 100% 200/200 [02:52<00:00,  1.16it/s]\n",
            "LR:  0.0009666666666666667\n",
            "0.72154: 100% 200/200 [02:55<00:00,  1.14it/s]\n",
            "LR:  0.0009555555555555556\n",
            "0.69611: 100% 200/200 [02:56<00:00,  1.15it/s]\n",
            "LR:  0.0009444444444444445\n",
            "0.65943: 100% 200/200 [02:56<00:00,  1.13it/s]\n",
            "Epoch [15/100], Train loss: 0.7111, Test loss: 0.5113\n",
            "LR:  0.0009333333333333333\n",
            "0.75963: 100% 200/200 [02:54<00:00,  1.14it/s]\n",
            "LR:  0.0009222222222222223\n",
            "0.66345: 100% 200/200 [02:55<00:00,  1.14it/s]\n",
            "LR:  0.0009111111111111111\n",
            "0.70187: 100% 200/200 [02:55<00:00,  1.15it/s]\n",
            "LR:  0.0009000000000000001\n",
            "0.74567: 100% 200/200 [02:55<00:00,  1.15it/s]\n",
            "LR:  0.0008888888888888888\n",
            "0.74165: 100% 200/200 [02:56<00:00,  1.16it/s]\n",
            "Epoch [20/100], Train loss: 0.7023, Test loss: 0.4804\n",
            "LR:  0.0008777777777777778\n",
            "0.68225: 100% 200/200 [02:57<00:00,  1.18it/s]\n",
            "LR:  0.0008666666666666667\n",
            "0.65137: 100% 200/200 [02:54<00:00,  1.16it/s]\n",
            "LR:  0.0008555555555555556\n",
            "0.71736: 100% 200/200 [02:56<00:00,  1.15it/s]\n",
            "LR:  0.0008444444444444444\n",
            "0.61621: 100% 200/200 [02:56<00:00,  1.15it/s]\n",
            "LR:  0.0008333333333333334\n",
            "0.64046: 100% 200/200 [02:56<00:00,  1.14it/s]\n",
            "Epoch [25/100], Train loss: 0.6949, Test loss: 0.4605\n",
            "LR:  0.0008222222222222222\n",
            "0.64648: 100% 200/200 [02:55<00:00,  1.16it/s]\n",
            "LR:  0.0008111111111111111\n",
            "0.67488: 100% 200/200 [02:54<00:00,  1.16it/s]\n",
            "LR:  0.0008\n",
            "0.62871: 100% 200/200 [02:56<00:00,  1.15it/s]\n",
            "LR:  0.0007888888888888889\n",
            "0.68927: 100% 200/200 [02:55<00:00,  1.15it/s]\n",
            "LR:  0.0007777777777777778\n",
            "0.72932: 100% 200/200 [02:55<00:00,  1.14it/s]\n",
            "Epoch [30/100], Train loss: 0.6913, Test loss: 0.4595\n",
            "LR:  0.0007666666666666667\n",
            "0.70360: 100% 200/200 [02:53<00:00,  1.16it/s]\n",
            "LR:  0.0007555555555555555\n",
            "0.71722: 100% 200/200 [02:55<00:00,  1.18it/s]\n",
            "LR:  0.0007444444444444445\n",
            "0.74283: 100% 200/200 [02:54<00:00,  1.16it/s]\n",
            "LR:  0.0007333333333333333\n",
            "0.63225: 100% 200/200 [02:55<00:00,  1.16it/s]\n",
            "LR:  0.0007222222222222222\n",
            "0.60084: 100% 200/200 [02:55<00:00,  1.14it/s]\n",
            "Epoch [35/100], Train loss: 0.6679, Test loss: 0.4223\n",
            "LR:  0.0007111111111111111\n",
            "0.52968: 100% 200/200 [02:53<00:00,  1.14it/s]\n",
            "LR:  0.0007\n",
            "0.70295: 100% 200/200 [02:57<00:00,  1.13it/s]\n",
            "LR:  0.000688888888888889\n",
            "0.67660: 100% 200/200 [02:57<00:00,  1.18it/s]\n",
            "LR:  0.0006777777777777778\n",
            "0.62582: 100% 200/200 [02:57<00:00,  1.13it/s]\n",
            "LR:  0.0006666666666666666\n",
            "0.82962: 100% 200/200 [02:56<00:00,  1.14it/s]\n",
            "Epoch [40/100], Train loss: 0.6592, Test loss: 0.3932\n",
            "LR:  0.0006555555555555556\n",
            "0.68839: 100% 200/200 [02:55<00:00,  1.14it/s]\n",
            "LR:  0.0006444444444444444\n",
            "0.63552: 100% 200/200 [02:55<00:00,  1.14it/s]\n",
            "LR:  0.0006333333333333333\n",
            "0.72332: 100% 200/200 [02:55<00:00,  1.15it/s]\n",
            "LR:  0.0006222222222222223\n",
            "0.65600: 100% 200/200 [02:56<00:00,  1.17it/s]\n",
            "LR:  0.0006111111111111112\n",
            "0.62702: 100% 200/200 [02:56<00:00,  1.14it/s]\n",
            "Epoch [45/100], Train loss: 0.6462, Test loss: 0.3799\n",
            "LR:  0.0006\n",
            "0.66886: 100% 200/200 [02:54<00:00,  1.16it/s]\n",
            "LR:  0.0005888888888888889\n",
            "0.58774: 100% 200/200 [02:54<00:00,  1.15it/s]\n",
            "LR:  0.0005777777777777778\n",
            "0.60184: 100% 200/200 [02:55<00:00,  1.15it/s]\n",
            "LR:  0.0005666666666666667\n",
            "0.65535: 100% 200/200 [02:55<00:00,  1.14it/s]\n",
            "LR:  0.0005555555555555556\n",
            "0.61113: 100% 200/200 [02:54<00:00,  1.17it/s]\n",
            "Epoch [50/100], Train loss: 0.6355, Test loss: 0.3622\n",
            "LR:  0.0005444444444444444\n",
            "0.64727: 100% 200/200 [02:55<00:00,  1.16it/s]\n",
            "LR:  0.0005333333333333334\n",
            "0.65905: 100% 200/200 [02:55<00:00,  1.15it/s]\n",
            "LR:  0.0005222222222222223\n",
            "0.67934: 100% 200/200 [02:54<00:00,  1.14it/s]\n",
            "LR:  0.0005111111111111111\n",
            "0.56023: 100% 200/200 [02:55<00:00,  1.15it/s]\n",
            "LR:  0.0005\n",
            "0.63964: 100% 200/200 [02:56<00:00,  1.13it/s]\n",
            "Epoch [55/100], Train loss: 0.6279, Test loss: 0.3899\n",
            "LR:  0.0004888888888888889\n",
            "0.56262: 100% 200/200 [02:52<00:00,  1.16it/s]\n",
            "LR:  0.0004777777777777778\n",
            "0.62981: 100% 200/200 [02:53<00:00,  1.16it/s]\n",
            "LR:  0.00046666666666666666\n",
            "0.67758: 100% 200/200 [02:53<00:00,  1.15it/s]\n",
            "LR:  0.00045555555555555556\n",
            "0.73866: 100% 200/200 [02:55<00:00,  1.14it/s]\n",
            "LR:  0.0004444444444444444\n",
            "0.73948: 100% 200/200 [02:55<00:00,  1.17it/s]\n",
            "Epoch [60/100], Train loss: 0.6204, Test loss: 0.3540\n",
            "LR:  0.00043333333333333337\n",
            "0.65018: 100% 200/200 [02:48<00:00,  1.21it/s]\n",
            "LR:  0.0004222222222222222\n",
            "0.68104: 100% 200/200 [02:53<00:00,  1.16it/s]\n",
            "LR:  0.0004111111111111111\n",
            "0.47334: 100% 200/200 [02:53<00:00,  1.17it/s]\n",
            "LR:  0.0004\n",
            "0.62954: 100% 200/200 [02:53<00:00,  1.17it/s]\n",
            "LR:  0.0003888888888888889\n",
            "0.57288: 100% 200/200 [02:52<00:00,  1.18it/s]\n",
            "Epoch [65/100], Train loss: 0.6171, Test loss: 0.3592\n",
            "LR:  0.00037777777777777777\n",
            "0.66043: 100% 200/200 [02:52<00:00,  1.19it/s]\n",
            "LR:  0.00036666666666666667\n",
            "0.57697: 100% 200/200 [02:52<00:00,  1.14it/s]\n",
            "LR:  0.00035555555555555557\n",
            "0.48652: 100% 200/200 [02:53<00:00,  1.11it/s]\n",
            "LR:  0.0003444444444444445\n",
            "0.58611: 100% 200/200 [02:52<00:00,  1.17it/s]\n",
            "LR:  0.0003333333333333333\n",
            "0.53931: 100% 200/200 [02:54<00:00,  1.17it/s]\n",
            "Epoch [70/100], Train loss: 0.6114, Test loss: 0.3259\n",
            "LR:  0.0003222222222222222\n",
            "0.57911: 100% 200/200 [02:52<00:00,  1.17it/s]\n",
            "LR:  0.0003111111111111111\n",
            "0.67930: 100% 200/200 [02:54<00:00,  1.15it/s]\n",
            "LR:  0.0003\n",
            "0.56513: 100% 200/200 [02:54<00:00,  1.17it/s]\n",
            "LR:  0.0002888888888888889\n",
            "0.70504: 100% 200/200 [02:54<00:00,  1.14it/s]\n",
            "LR:  0.0002777777777777778\n",
            "0.70933: 100% 200/200 [02:53<00:00,  1.18it/s]\n",
            "Epoch [75/100], Train loss: 0.6045, Test loss: 0.3635\n",
            "LR:  0.0002666666666666667\n",
            "0.63606: 100% 200/200 [02:52<00:00,  1.15it/s]\n",
            "LR:  0.00025555555555555553\n",
            "0.65382: 100% 200/200 [02:54<00:00,  1.16it/s]\n",
            "LR:  0.00024444444444444443\n",
            "0.58226: 100% 200/200 [02:54<00:00,  1.13it/s]\n",
            "LR:  0.00023333333333333333\n",
            "0.53894: 100% 200/200 [02:59<00:00,  1.14it/s]\n",
            "LR:  0.0002222222222222222\n",
            "0.69297: 100% 200/200 [02:57<00:00,  1.12it/s]\n",
            "Epoch [80/100], Train loss: 0.6017, Test loss: 0.3338\n",
            "LR:  0.0002111111111111111\n",
            "0.59424: 100% 200/200 [02:54<00:00,  1.16it/s]\n",
            "LR:  0.0002\n",
            "0.59782: 100% 200/200 [02:55<00:00,  1.15it/s]\n",
            "LR:  0.00018888888888888888\n",
            "0.57771: 100% 200/200 [02:56<00:00,  1.11it/s]\n",
            "LR:  0.00017777777777777779\n",
            "0.65535: 100% 200/200 [02:55<00:00,  1.12it/s]\n",
            "LR:  0.00016666666666666666\n",
            "0.60308: 100% 200/200 [02:53<00:00,  1.15it/s]\n",
            "Epoch [85/100], Train loss: 0.5815, Test loss: 0.3217\n",
            "LR:  0.00015555555555555556\n",
            "0.58387: 100% 200/200 [02:57<00:00,  1.13it/s]\n",
            "LR:  0.00014444444444444444\n",
            "0.54240: 100% 200/200 [02:57<00:00,  1.14it/s]\n",
            "LR:  0.00013333333333333334\n",
            "0.72608: 100% 200/200 [02:59<00:00,  1.12it/s]\n",
            "LR:  0.00012222222222222221\n",
            "0.54639: 100% 200/200 [03:00<00:00,  1.11it/s]\n",
            "LR:  0.0001111111111111111\n",
            "0.56969: 100% 200/200 [03:01<00:00,  1.11it/s]\n",
            "Epoch [90/100], Train loss: 0.5930, Test loss: 0.3160\n",
            "LR:  0.0001\n",
            "0.65594: 100% 200/200 [02:57<00:00,  1.18it/s]\n",
            "LR:  8.888888888888889e-05\n",
            "0.51460: 100% 200/200 [02:52<00:00,  1.19it/s]\n",
            "LR:  7.777777777777778e-05\n",
            "0.50572: 100% 200/200 [02:51<00:00,  1.18it/s]\n",
            "LR:  6.666666666666667e-05\n",
            "0.55177: 100% 200/200 [02:51<00:00,  1.17it/s]\n",
            "LR:  5.555555555555555e-05\n",
            "0.51440: 100% 200/200 [02:52<00:00,  1.17it/s]\n",
            "Epoch [95/100], Train loss: 0.5885, Test loss: 0.3222\n",
            "LR:  4.4444444444444447e-05\n",
            "0.62397: 100% 200/200 [02:58<00:00,  1.13it/s]\n",
            "LR:  3.3333333333333335e-05\n",
            "0.54741: 100% 200/200 [03:00<00:00,  1.13it/s]\n",
            "LR:  2.2222222222222223e-05\n",
            "0.72149: 100% 200/200 [03:00<00:00,  1.10it/s]\n",
            "LR:  1.1111111111111112e-05\n",
            "0.59831: 100% 200/200 [03:01<00:00,  1.10it/s]\n"
          ],
          "name": "stdout"
        }
      ]
    },
    {
      "cell_type": "markdown",
      "metadata": {
        "id": "J2H06vIePk92",
        "colab_type": "text"
      },
      "source": [
        "Plot training loss\n",
        "\n",
        "<img src=\"https://github.com/viethungluu/D2SRetina/blob/master/images/loss.png?raw=true\" alt=\"Training loss\" width=\"600\"/>"
      ]
    },
    {
      "cell_type": "markdown",
      "metadata": {
        "id": "tRfYZ1TDtati",
        "colab_type": "text"
      },
      "source": [
        "## Evaluation"
      ]
    },
    {
      "cell_type": "code",
      "metadata": {
        "id": "OTjgRkA9tdSl",
        "colab_type": "code",
        "outputId": "0b421a78-03df-48df-aeb9-c44450e122ba",
        "colab": {
          "base_uri": "https://localhost:8080/",
          "height": 483
        }
      },
      "source": [
        "!python recognition/evaluate.py --coco-path ../../data/processed/d2s/ --backbone ResNet18 --snapshot ../../models/snapshots/D2S/Coco/soft_margin/ResNet18_hard_95.pth --emb-size 2048 --snapshot-path ../../models/snapshots/D2S/Coco/soft_margin"
      ],
      "execution_count": 0,
      "outputs": [
        {
          "output_type": "stream",
          "text": [
            "Reading dataset from ../../data/processed/d2s/annotations/D2S_training.json\n",
            "loading annotations into memory...\n",
            "Done (t=0.08s)\n",
            "creating index...\n",
            "index created!\n",
            "{0: 1, 1: 2, 2: 3, 3: 4, 4: 5, 5: 6, 6: 7, 7: 8, 8: 9, 9: 10, 10: 11, 11: 12, 12: 13, 13: 14, 14: 15, 15: 16, 16: 17, 17: 18, 18: 19, 19: 20, 20: 21, 21: 22, 22: 23, 23: 24, 24: 25, 25: 26, 26: 27, 27: 28, 28: 29, 29: 30, 30: 31, 31: 32, 32: 33, 33: 34, 34: 35, 35: 36, 36: 37, 37: 38, 38: 39, 39: 40, 40: 41, 41: 42, 42: 43, 43: 44, 44: 45, 45: 46, 46: 47, 47: 48, 48: 49, 49: 50, 50: 51, 51: 52, 52: 53, 53: 54, 54: 55, 55: 56, 56: 57, 57: 58, 58: 59, 59: 60}\n",
            "{1: 0, 2: 1, 3: 2, 4: 3, 5: 4, 6: 5, 7: 6, 8: 7, 9: 8, 10: 9, 11: 10, 12: 11, 13: 12, 14: 13, 15: 14, 16: 15, 17: 16, 18: 17, 19: 18, 20: 19, 21: 20, 22: 21, 23: 22, 24: 23, 25: 24, 26: 25, 27: 26, 28: 27, 29: 28, 30: 29, 31: 30, 32: 31, 33: 32, 34: 33, 35: 34, 36: 35, 37: 36, 38: 37, 39: 38, 40: 39, 41: 40, 42: 41, 43: 42, 44: 43, 45: 44, 46: 45, 47: 46, 48: 47, 49: 48, 50: 49, 51: 50, 52: 51, 53: 52, 54: 53, 55: 54, 56: 55, 57: 56, 58: 57, 59: 58, 60: 59}\n",
            "{'adelholzener_alpenquelle_classic_075': 0, 'adelholzener_alpenquelle_naturell_075': 1, 'adelholzener_classic_bio_apfelschorle_02': 2, 'adelholzener_classic_naturell_02': 3, 'adelholzener_gourmet_mineralwasser_02': 4, 'augustiner_lagerbraeu_hell_05': 5, 'augustiner_weissbier_05': 6, 'coca_cola_05': 7, 'coca_cola_light_05': 8, 'suntory_gokuri_lemonade': 9, 'tegernseer_hell_03': 10, 'corny_nussvoll': 11, 'corny_nussvoll_single': 12, 'corny_schoko_banane': 13, 'corny_schoko_banane_single': 14, 'dr_oetker_vitalis_knuspermuesli_klassisch': 15, 'koelln_muesli_fruechte': 16, 'koelln_muesli_schoko': 17, 'caona_cocoa': 18, 'cocoba_cocoa': 19, 'cafe_wunderbar_espresso': 20, 'douwe_egberts_professional_ground_coffee': 21, 'gepa_bio_caffe_crema': 22, 'gepa_italienischer_bio_espresso': 23, 'apple_braeburn_bundle': 24, 'apple_golden_delicious': 25, 'apple_granny_smith': 26, 'apple_red_boskoop': 27, 'avocado': 28, 'banana_bundle': 29, 'banana_single': 30, 'clementine': 31, 'clementine_single': 32, 'grapes_green_sugraone_seedless': 33, 'grapes_sweet_celebration_seedless': 34, 'kiwi': 35, 'orange_single': 36, 'oranges': 37, 'pear': 38, 'pasta_reggia_elicoidali': 39, 'pasta_reggia_fusilli': 40, 'pasta_reggia_spaghetti': 41, 'franken_tafelreiniger': 42, 'pelikan_tintenpatrone_canon': 43, 'ethiquable_gruener_tee_ceylon': 44, 'gepa_bio_und_fair_fencheltee': 45, 'gepa_bio_und_fair_kamillentee': 46, 'gepa_bio_und_fair_kraeuterteemischung': 47, 'gepa_bio_und_fair_pfefferminztee': 48, 'gepa_bio_und_fair_rooibostee': 49, 'kilimanjaro_tea_earl_grey': 50, 'cucumber': 51, 'carrot': 52, 'corn_salad': 53, 'lettuce': 54, 'vine_tomatoes': 55, 'roma_vine_tomatoes': 56, 'rocket': 57, 'salad_iceberg': 58, 'zucchini': 59}\n",
            "{0: 'adelholzener_alpenquelle_classic_075', 1: 'adelholzener_alpenquelle_naturell_075', 2: 'adelholzener_classic_bio_apfelschorle_02', 3: 'adelholzener_classic_naturell_02', 4: 'adelholzener_gourmet_mineralwasser_02', 5: 'augustiner_lagerbraeu_hell_05', 6: 'augustiner_weissbier_05', 7: 'coca_cola_05', 8: 'coca_cola_light_05', 9: 'suntory_gokuri_lemonade', 10: 'tegernseer_hell_03', 11: 'corny_nussvoll', 12: 'corny_nussvoll_single', 13: 'corny_schoko_banane', 14: 'corny_schoko_banane_single', 15: 'dr_oetker_vitalis_knuspermuesli_klassisch', 16: 'koelln_muesli_fruechte', 17: 'koelln_muesli_schoko', 18: 'caona_cocoa', 19: 'cocoba_cocoa', 20: 'cafe_wunderbar_espresso', 21: 'douwe_egberts_professional_ground_coffee', 22: 'gepa_bio_caffe_crema', 23: 'gepa_italienischer_bio_espresso', 24: 'apple_braeburn_bundle', 25: 'apple_golden_delicious', 26: 'apple_granny_smith', 27: 'apple_red_boskoop', 28: 'avocado', 29: 'banana_bundle', 30: 'banana_single', 31: 'clementine', 32: 'clementine_single', 33: 'grapes_green_sugraone_seedless', 34: 'grapes_sweet_celebration_seedless', 35: 'kiwi', 36: 'orange_single', 37: 'oranges', 38: 'pear', 39: 'pasta_reggia_elicoidali', 40: 'pasta_reggia_fusilli', 41: 'pasta_reggia_spaghetti', 42: 'franken_tafelreiniger', 43: 'pelikan_tintenpatrone_canon', 44: 'ethiquable_gruener_tee_ceylon', 45: 'gepa_bio_und_fair_fencheltee', 46: 'gepa_bio_und_fair_kamillentee', 47: 'gepa_bio_und_fair_kraeuterteemischung', 48: 'gepa_bio_und_fair_pfefferminztee', 49: 'gepa_bio_und_fair_rooibostee', 50: 'kilimanjaro_tea_earl_grey', 51: 'cucumber', 52: 'carrot', 53: 'corn_salad', 54: 'lettuce', 55: 'vine_tomatoes', 56: 'roma_vine_tomatoes', 57: 'rocket', 58: 'salad_iceberg', 59: 'zucchini'}\n",
            "Number of classes: 60\n",
            "Number of images: 4380\n",
            "Number of image patches: (6900,)\n",
            "Reading dataset from ../../data/processed/d2s/annotations/D2S_validation_wo_occlusion.json\n",
            "loading annotations into memory...\n",
            "Done (t=0.03s)\n",
            "creating index...\n",
            "index created!\n",
            "{0: 1, 1: 2, 2: 3, 3: 4, 4: 5, 5: 6, 6: 7, 7: 8, 8: 9, 9: 10, 10: 11, 11: 12, 12: 13, 13: 14, 14: 15, 15: 16, 16: 17, 17: 18, 18: 19, 19: 20, 20: 21, 21: 22, 22: 23, 23: 24, 24: 25, 25: 26, 26: 27, 27: 28, 28: 29, 29: 30, 30: 31, 31: 32, 32: 33, 33: 34, 34: 35, 35: 36, 36: 37, 37: 38, 38: 39, 39: 40, 40: 41, 41: 42, 42: 43, 43: 44, 44: 45, 45: 46, 46: 47, 47: 48, 48: 49, 49: 50, 50: 51, 51: 52, 52: 53, 53: 54, 54: 55, 55: 56, 56: 57, 57: 58, 58: 59, 59: 60}\n",
            "{1: 0, 2: 1, 3: 2, 4: 3, 5: 4, 6: 5, 7: 6, 8: 7, 9: 8, 10: 9, 11: 10, 12: 11, 13: 12, 14: 13, 15: 14, 16: 15, 17: 16, 18: 17, 19: 18, 20: 19, 21: 20, 22: 21, 23: 22, 24: 23, 25: 24, 26: 25, 27: 26, 28: 27, 29: 28, 30: 29, 31: 30, 32: 31, 33: 32, 34: 33, 35: 34, 36: 35, 37: 36, 38: 37, 39: 38, 40: 39, 41: 40, 42: 41, 43: 42, 44: 43, 45: 44, 46: 45, 47: 46, 48: 47, 49: 48, 50: 49, 51: 50, 52: 51, 53: 52, 54: 53, 55: 54, 56: 55, 57: 56, 58: 57, 59: 58, 60: 59}\n",
            "{'adelholzener_alpenquelle_classic_075': 0, 'adelholzener_alpenquelle_naturell_075': 1, 'adelholzener_classic_bio_apfelschorle_02': 2, 'adelholzener_classic_naturell_02': 3, 'adelholzener_gourmet_mineralwasser_02': 4, 'augustiner_lagerbraeu_hell_05': 5, 'augustiner_weissbier_05': 6, 'coca_cola_05': 7, 'coca_cola_light_05': 8, 'suntory_gokuri_lemonade': 9, 'tegernseer_hell_03': 10, 'corny_nussvoll': 11, 'corny_nussvoll_single': 12, 'corny_schoko_banane': 13, 'corny_schoko_banane_single': 14, 'dr_oetker_vitalis_knuspermuesli_klassisch': 15, 'koelln_muesli_fruechte': 16, 'koelln_muesli_schoko': 17, 'caona_cocoa': 18, 'cocoba_cocoa': 19, 'cafe_wunderbar_espresso': 20, 'douwe_egberts_professional_ground_coffee': 21, 'gepa_bio_caffe_crema': 22, 'gepa_italienischer_bio_espresso': 23, 'apple_braeburn_bundle': 24, 'apple_golden_delicious': 25, 'apple_granny_smith': 26, 'apple_red_boskoop': 27, 'avocado': 28, 'banana_bundle': 29, 'banana_single': 30, 'clementine': 31, 'clementine_single': 32, 'grapes_green_sugraone_seedless': 33, 'grapes_sweet_celebration_seedless': 34, 'kiwi': 35, 'orange_single': 36, 'oranges': 37, 'pear': 38, 'pasta_reggia_elicoidali': 39, 'pasta_reggia_fusilli': 40, 'pasta_reggia_spaghetti': 41, 'franken_tafelreiniger': 42, 'pelikan_tintenpatrone_canon': 43, 'ethiquable_gruener_tee_ceylon': 44, 'gepa_bio_und_fair_fencheltee': 45, 'gepa_bio_und_fair_kamillentee': 46, 'gepa_bio_und_fair_kraeuterteemischung': 47, 'gepa_bio_und_fair_pfefferminztee': 48, 'gepa_bio_und_fair_rooibostee': 49, 'kilimanjaro_tea_earl_grey': 50, 'cucumber': 51, 'carrot': 52, 'corn_salad': 53, 'lettuce': 54, 'vine_tomatoes': 55, 'roma_vine_tomatoes': 56, 'rocket': 57, 'salad_iceberg': 58, 'zucchini': 59}\n",
            "{0: 'adelholzener_alpenquelle_classic_075', 1: 'adelholzener_alpenquelle_naturell_075', 2: 'adelholzener_classic_bio_apfelschorle_02', 3: 'adelholzener_classic_naturell_02', 4: 'adelholzener_gourmet_mineralwasser_02', 5: 'augustiner_lagerbraeu_hell_05', 6: 'augustiner_weissbier_05', 7: 'coca_cola_05', 8: 'coca_cola_light_05', 9: 'suntory_gokuri_lemonade', 10: 'tegernseer_hell_03', 11: 'corny_nussvoll', 12: 'corny_nussvoll_single', 13: 'corny_schoko_banane', 14: 'corny_schoko_banane_single', 15: 'dr_oetker_vitalis_knuspermuesli_klassisch', 16: 'koelln_muesli_fruechte', 17: 'koelln_muesli_schoko', 18: 'caona_cocoa', 19: 'cocoba_cocoa', 20: 'cafe_wunderbar_espresso', 21: 'douwe_egberts_professional_ground_coffee', 22: 'gepa_bio_caffe_crema', 23: 'gepa_italienischer_bio_espresso', 24: 'apple_braeburn_bundle', 25: 'apple_golden_delicious', 26: 'apple_granny_smith', 27: 'apple_red_boskoop', 28: 'avocado', 29: 'banana_bundle', 30: 'banana_single', 31: 'clementine', 32: 'clementine_single', 33: 'grapes_green_sugraone_seedless', 34: 'grapes_sweet_celebration_seedless', 35: 'kiwi', 36: 'orange_single', 37: 'oranges', 38: 'pear', 39: 'pasta_reggia_elicoidali', 40: 'pasta_reggia_fusilli', 41: 'pasta_reggia_spaghetti', 42: 'franken_tafelreiniger', 43: 'pelikan_tintenpatrone_canon', 44: 'ethiquable_gruener_tee_ceylon', 45: 'gepa_bio_und_fair_fencheltee', 46: 'gepa_bio_und_fair_kamillentee', 47: 'gepa_bio_und_fair_kraeuterteemischung', 48: 'gepa_bio_und_fair_pfefferminztee', 49: 'gepa_bio_und_fair_rooibostee', 50: 'kilimanjaro_tea_earl_grey', 51: 'cucumber', 52: 'carrot', 53: 'corn_salad', 54: 'lettuce', 55: 'vine_tomatoes', 56: 'roma_vine_tomatoes', 57: 'rocket', 58: 'salad_iceberg', 59: 'zucchini'}\n",
            "Number of classes: 60\n",
            "Number of images: 660\n",
            "Number of image patches: (2250,)\n"
          ],
          "name": "stdout"
        }
      ]
    },
    {
      "cell_type": "markdown",
      "metadata": {
        "id": "ezQHAboygD9Y",
        "colab_type": "text"
      },
      "source": [
        "Results after 95 epochs.\n",
        "\n",
        "|             | precision | recall | f1-scrore | #samples |\n",
        "|-------------|-----------|--------|-----------|----------|\n",
        "| accuracy    |           |        | .54        | 2250     |\n",
        "| macro avg   | .45        | .40     | .41        | 2250     |\n",
        "| weighted avg| .64        | .54     | .56        | 2250     |\n",
        "\n",
        "\n",
        "Image below shows some recognition examples. For each row, there are two pairs. For each pair, left image is query image (from test set), right image is the ground truth image (from train set) which is most similar to query image. We can see that this dataset is quite dificult, where many grocery item of different class look slmost similar.\n",
        "\n",
        "<img src=\"https://github.com/viethungluu/D2SRetina/blob/master/images/evaluation.png?raw=true\" alt=\"Example\"/>"
      ]
    }
  ]
}